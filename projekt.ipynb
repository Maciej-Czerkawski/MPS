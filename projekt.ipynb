{
 "cells": [
  {
   "cell_type": "code",
   "execution_count": 391,
   "metadata": {},
   "outputs": [],
   "source": [
    "import numpy as np\n",
    "import matplotlib.pyplot as plt\n",
    "from IPython.display import display, Math, Latex\n",
    "from sklearn import preprocessing"
   ]
  },
  {
   "cell_type": "code",
   "execution_count": 410,
   "metadata": {},
   "outputs": [],
   "source": [
    "#Ustalenie wartości parametrów czasu \n",
    "t_0 = 0; t_end = 300; length = 300\n",
    "\n",
    "#Określenie osi czasu \n",
    "t = np.linspace(t_0,t_end,length)\n",
    "dt = np.mean(np.diff(t))\n",
    "\n",
    "#Wielkość populacji \n",
    "N = 100 \n",
    "\n",
    "#Ustalenie wielkosci kazdej z grup w czasie, wprowadzenie dziedziny czasu \n",
    "#S - Susceptible |  I - Infectious |  R - Recovered\n",
    "S,I,R = np.zeros(length), np.zeros(length), np.zeros(length); \n",
    "Sd,Id,Rd = np.zeros(length), np.zeros(length), np.zeros(length); \n",
    "Id[0] = 1\n",
    "Sd = N - Id  - Rd\n",
    "\n",
    "#Liczba zarażonych w chwili początkowej \n",
    "I[0] = 1 \n",
    "\n",
    "#Założenia modelu SIR, S + I + R = N \n",
    "S = N - I - R\n",
    "\n",
    "#Współczynniki modelu SIR \n",
    "#beta - współczynnik zaraźliwości | gamma - współczynnik ozdrowienia \n",
    "beta, gamma = 0.5, 1./10"
   ]
  },
  {
   "cell_type": "markdown",
   "metadata": {},
   "source": [
    "Następnie realizowane jest uwzględnienie komponenty stochastycznej dla modelu SIR, gdzie rozwiązywanie będą stochastyczne równania różniczkowe (ang. Stochastic Diffrential Equations (SDE)): \n",
    "\n",
    "$dX_t = a * (X_t)dt + b(X_t)dW_t$\n",
    "\n",
    ",gdzie:\n",
    "a - czynnik dryfu \n",
    "b - czynnik dyfuzji \n",
    "$dW_t$ - proces Wienera  \n"
   ]
  },
  {
   "cell_type": "code",
   "execution_count": 426,
   "metadata": {},
   "outputs": [],
   "source": [
    "#Określenie wartości parametru sigma \n",
    "SIGMAS = 0.5\n",
    "sigmaS = np.zeros(length)\n",
    "sigmaS = sigmaS + SIGMA\n",
    "\n",
    "SIGMAI = 0.5\n",
    "sigmaI = np.zeros(length)\n",
    "sigmaI = sigmaI + SIGMA\n",
    "\n",
    "SIGMAR = 0.5\n",
    "sigmaR = np.zeros(length)\n",
    "sigmaR = sigmaR + SIGMA\n",
    "\n",
    "#Ustalenie założeń modelu SIR zgodnie z powyższym równaniem \n",
    "#Dla S \n",
    "driftS = lambda S,t: -beta * S * I / N       \n",
    "diffusionS = lambda S,t: sigmaS\n",
    "#Dla I \n",
    "driftI = lambda I,t: beta * S * I /N - gamma * I     \n",
    "diffusionI = lambda I,t: sigmaI\n",
    "#Dla R \n",
    "driftR = lambda R,t: gamma * I      \n",
    "diffusionR = lambda R,t: sigmaR     \n",
    "\n",
    "\n",
    "#Ustalenie założeń modelu SIR zgodnie z powyższym równaniem \n",
    "#Dla Sd \n",
    "driftSd = lambda Sd,t: -beta * Sd * Id / N       \n",
    "diffusionS = lambda Sd,t: sigmaS\n",
    "#Dla Id \n",
    "driftId = lambda Id,t: beta * Sd * Id /N - gamma * Id     \n",
    "diffusionI = lambda Id,t: sigmaI\n",
    "#Dla Rd \n",
    "driftRd = lambda Rd,t: gamma * Id      \n",
    "diffusionR = lambda Rd,t: sigmaR "
   ]
  },
  {
   "cell_type": "markdown",
   "metadata": {},
   "source": [
    "Zgodnie z założeniami SDE czas został podzielony na części o długości dt oraz dla każdego kroku czasowego oraz każdej grupy modelu SIR zrealizowano równanie: \n",
    "\n",
    "$Y_n = Y_{n-1} + a(Y_{n-1})\\Delta t + b(Y_{n-1})\\Delta W$"
   ]
  },
  {
   "cell_type": "code",
   "execution_count": 427,
   "metadata": {},
   "outputs": [],
   "source": [
    "#szum\n",
    "noise = np.random.normal(loc=0.0,scale=1,size=length)*np.sqrt(dt)"
   ]
  },
  {
   "cell_type": "code",
   "execution_count": 429,
   "metadata": {},
   "outputs": [
    {
     "data": {
      "image/png": "[encoded data removed]",
      "text/plain": [
       "<Figure size 432x288 with 1 Axes>"
      ]
     },
     "metadata": {
      "needs_background": "light"
     },
     "output_type": "display_data"
    }
   ],
   "source": [
    "#Rozwiązanie powyższego równania dla każdej grupy modelu SIR \n",
    "for i in range(1,length):\n",
    "    S[i] = S[i-1] + (driftS(S[i-1],i*dt)[i-1])*dt + (diffusionS(S,i*dt)[i-1])*noise[i-1]\n",
    "    I[i] = I[i-1] + (driftI(I[i-1],i*dt)[i-1])*dt + (diffusionI(I[i-1],i*dt)[i-1])*noise[i-1]\n",
    "    R[i] = R[i-1] + (driftR(R[i-1],i*dt)[i-1])*dt + (diffusionR(R[i-1],i*dt)[i-1])*noise[i-1]        \n",
    "    Sd[i] = Sd[i-1] + (driftS(Sd[i-1],i*dt)[i-1])*dt \n",
    "    Id[i] = Id[i-1] + (driftI(Id[i-1],i*dt)[i-1])*dt \n",
    "    Rd[i] = Rd[i-1] + (driftR(Rd[i-1],i*dt)[i-1])*dt     \n",
    "    \n",
    "    if S[i] < 0:\n",
    "        S[i] = 0;\n",
    "    if I[i] < 0:\n",
    "        I[i] = 0;\n",
    "    \n",
    "    if Rd[i] > 100:\n",
    "        Rd[i] =100;\n",
    "    \n",
    "    if Id[i] > 100:\n",
    "        Id[i] = 100;\n",
    "        \n",
    "    \n",
    "        \n",
    "    \n",
    "    #Unormowanie ze względu na to, że założenie zamkniętego układu. \n",
    "    tmp = S[i]+I[i]+R[i]\n",
    "    S[i] *= 100/tmp\n",
    "    I[i] *= 100/tmp\n",
    "    R[i] *= 100/tmp\n",
    "data = [S,I,R]\n",
    "S = N - I - R \n",
    "\n",
    "\n",
    "\n",
    "fig, ax = plt.subplots()\n",
    "ax.plot(t, data[0], label = 'S stoch.')\n",
    "ax.plot(t, data[1], label = 'I stoch.')\n",
    "ax.plot(t, data[2], label = 'R stoch.')\n",
    "ax.plot(t, Sd, label = 'S ')\n",
    "ax.plot(t, Id, label = 'I ')\n",
    "ax.plot(t, Rd, label = 'R ')\n",
    "ax.set_xlabel(\"Time [days]\")\n",
    "ax.set_ylabel(\"Population\")\n",
    "plt.title('SIR D i F')\n",
    "plt.legend(loc=\"best\")\n",
    "plt.savefig('DF.png')\n",
    "plt.show()"
   ]
  },
  {
   "cell_type": "code",
   "execution_count": null,
   "metadata": {},
   "outputs": [],
   "source": []
  },
  {
   "cell_type": "code",
   "execution_count": null,
   "metadata": {},
   "outputs": [],
   "source": []
  }
 ],
 "metadata": {
  "kernelspec": {
   "display_name": "Python 3",
   "language": "python",
   "name": "python3"
  },
  "language_info": {
   "codemirror_mode": {
    "name": "ipython",
    "version": 3
   },
   "file_extension": ".py",
   "mimetype": "text/x-python",
   "name": "python",
   "nbconvert_exporter": "python",
   "pygments_lexer": "ipython3",
   "version": "3.6.9"
  }
 },
 "nbformat": 4,
 "nbformat_minor": 4
}
